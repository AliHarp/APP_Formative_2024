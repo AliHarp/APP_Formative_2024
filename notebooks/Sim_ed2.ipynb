{
 "cells": [
  {
   "cell_type": "raw",
   "id": "67ce7058-525f-4713-959f-ec20634f8e86",
   "metadata": {},
   "source": [
    "---\n",
    "title: Simulation for education\n",
    "author: Alison Harper\n",
    "date: 05-20-2024\n",
    "format:\n",
    "    html:\n",
    "        code-fold: false\n",
    "bibliography: ../references.bib\n",
    "jupyter: python3\n",
    "execute: \n",
    "    enabled: true\n",
    "---"
   ]
  },
  {
   "cell_type": "markdown",
   "id": "2260c276-8474-44ce-aaf0-4e11f719ab77",
   "metadata": {},
   "source": [
    "### 1. Simulation for Education"
   ]
  },
  {
   "cell_type": "markdown",
   "id": "6d4d7821-1c05-4235-ae66-086bf1e1b0b3",
   "metadata": {},
   "source": [
    "<div class=\"alert alert-block alert-secondary\">\n",
    "<div class=\"justify-text\">\n",
    "The history of modelling and simulation (M\\&S) spans hundreds of years, and many domains, including transportation, healthcare, enegineering, and defence. With the growth of computing technology, network technology, and simultaneously, problem space complexity, the last thirty years have seen a rapid evolution in both industry applications and in M\\&S academic programmes. Students can represent 'users' or 'developers' [@sokolowski2017m]. Users aim to utilise M\\&S methods, appropriately applied to their domain of interest. Developers study M\\&S as a discipline, learning the technical details to develop and enhance M\\&S methodology. These are two different education paths, and educational approaches are required that can address the needs and requirements of both academic paths [@tolk2017introduction]. WebAssembly has been used for other education applications, due to its interactivity and accessibility [@agustia2019].\n",
    "</div>\n",
    "</div>"
   ]
  },
  {
   "cell_type": "markdown",
   "id": "6291d075-e485-46e3-b213-5f41f447d876",
   "metadata": {},
   "source": [
    "### 2. WebAssembly Adaptation for Education"
   ]
  },
  {
   "cell_type": "markdown",
   "id": "d066b3e1-2f36-4b27-84c8-b8b2c52d2c84",
   "metadata": {},
   "source": [
    "<div class=\"justify-text\">\n",
    "\n",
    "</div>"
   ]
  },
  {
   "cell_type": "markdown",
   "id": "fd3d8805-ebe1-4962-a59e-b93f20ade96c",
   "metadata": {
    "jupyter": {
     "outputs_hidden": true
    },
    "tags": []
   },
   "source": [
    "<div class=\"justify-text\">\n",
    "#### Interactive Learning Environment \n",
    "\n",
    "* **Hands-on Experience:** Students can interact with pre-built simulations directly in their web browsers without needing to install any software. This allows them to focus on learning the concepts of simulation rather than dealing with technical setup issues. \n",
    "* **Exploratory Learning:** By manipulating parameters and observing outcomes in real-time, students can explore the effects of different variables, fostering a deeper understanding of simulation dynamics. \n",
    "\n",
    "#### Accessibility and Inclusivity\n",
    "* **Device Agnostic:** As JupyterLite runs in a web browser, students can access simulations from any device, including laptops, tablets, and even smartphones. This ensures that all students, regardless of their hardware, have equal access to learning resources. \n",
    "* **No Installation Required:** Eliminates the barrier of software installation, making it easier for students from diverse backgrounds and with varying levels of technical expertise to participate. \n",
    "\n",
    "#### Cost and Resource Efficiency\n",
    "* **No Server Costs:** By leveraging client-side computation, educational institutions save on server maintenance and hosting costs, making it a cost-effective solution for large classes or widespread deployment. \n",
    "* **Scalability:** The approach can be easily scaled to accommodate large numbers of students without the need for additional infrastructure. \n",
    "    \n",
    "#### Enhanced Security and Privacy\n",
    "* **Local Processing:** Since all computations are performed locally, students can work with sensitive data without it being transmitted to a remote server. This is particularly useful in scenarios where data privacy is a concern, such as working with anonymized datasets. \n",
    "    \n",
    "#### Consistent Learning Environment\n",
    "*  **Uniform Environment:** All students access the same software environment, ensuring consistency in the learning experience. This uniformity helps instructors standardize teaching materials and assessments. \n",
    "*  **Pre-configured Notebooks:** Educators can provide notebooks pre-configured with all necessary libraries, datasets, and instructions, reducing setup time and allowing students to dive straight into the learning material. \n",
    "\n",
    "#### Interactive and Engaging Content \n",
    "*  **Dynamic Content:** Simulations can include interactive widgets and controls (e.g., sliders, input boxes) within Jupyter notebooks, making the learning process engaging and interactive. \n",
    "*  **Immediate Feedback:** Students receive immediate visual feedback from their interactions, which helps in understanding the impact of their inputs and enhances the learning process. \n",
    "    \n",
    "#### Reusability and Collaboration \n",
    "*  **Shareable Links:** Educators can share links to JupyterLite notebooks, allowing students to easily access and collaborate on simulation projects. \n",
    "    \n",
    "*  **Version Control:** Using platforms like GitHub Pages, educators can maintain and distribute versions of the simulation models, ensuring students always have access to the latest updates. \n",
    "    \n",
    "</div>"
   ]
  },
  {
   "cell_type": "markdown",
   "id": "a739bad1-dbdc-4340-83b3-7b159a3530b8",
   "metadata": {},
   "source": [
    "## 3. Implementation in Education "
   ]
  },
  {
   "cell_type": "markdown",
   "id": "db35aee5-4821-4c2a-86e8-37a50fe3b6a4",
   "metadata": {},
   "source": [
    "<div class=\"justify-text\">\n",
    "##### Curriculum Integration:\n",
    "\n",
    "* Integrate JupyterLite simulations into the curriculum to demonstrate theoretical concepts through practical applications. \n",
    "* Use simulations to teach various types of models, including discrete-event, agent-based, and system dynamics simulations. \n",
    "    \n",
    "#### Assignments and Projects:\n",
    "\n",
    "*  Design assignments that require students to modify parameters, run simulations, and analyze results. \n",
    "*  Encourage students to create their own simulation models as projects, fostering creativity and deeper understanding. \n",
    "    \n",
    "#### Collaborative Learning:\n",
    "\n",
    "* Facilitate group projects where students collaborate on building and analyzing simulations, promoting teamwork and collective problem-solving. \n",
    "    \n",
    "#### Assessment:\n",
    "\n",
    "*  Use interactive simulations as part of assessments to test students’ understanding of simulation methods and their ability to apply concepts to solve problems. \n",
    "    \n",
    "#### Workshops and Tutorials:\n",
    "\n",
    "* Conduct workshops and tutorials to introduce students to JupyterLite and WebAssembly, teaching them how to leverage these tools for their simulations. By adapting these approaches, educators can leverage the power of WebAssembly and JupyterLite to create a dynamic, accessible, and effective learning environment for teaching simulation methods.\n",
    "</div>"
   ]
  }
 ],
 "metadata": {
  "kernelspec": {
   "display_name": "Python 3 (ipykernel)",
   "language": "python",
   "name": "python3"
  },
  "language_info": {
   "codemirror_mode": {
    "name": "ipython",
    "version": 3
   },
   "file_extension": ".py",
   "mimetype": "text/x-python",
   "name": "python",
   "nbconvert_exporter": "python",
   "pygments_lexer": "ipython3",
   "version": "3.9.12"
  }
 },
 "nbformat": 4,
 "nbformat_minor": 5
}
