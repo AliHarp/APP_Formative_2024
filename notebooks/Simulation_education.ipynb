{
 "cells": [
  {
   "cell_type": "raw",
   "id": "e8304667-88c1-478c-bf89-c5a34d5301de",
   "metadata": {},
   "source": [
    "---\n",
    "title: What is WebAssembly?\n",
    "author: Alison Harper\n",
    "date: 05-20-2024\n",
    "format:\n",
    "    html:\n",
    "        code-fold: false\n",
    "jupyter: python3\n",
    "bibliography: ../references.bib\n",
    "execute: \n",
    "    enabled: true\n",
    "---"
   ]
  },
  {
   "cell_type": "markdown",
   "id": "e2a97152-4d8f-41f1-a0cf-8dc309863295",
   "metadata": {
    "tags": []
   },
   "source": [
    "__Teaching-Research Synergy__  \n",
    " "
   ]
  },
  {
   "cell_type": "markdown",
   "id": "493ebde5-097a-4741-8754-997b27f1f089",
   "metadata": {},
   "source": [
    "<div class=\"alert alert-block alert-secondary\">\n",
    "<div class=\"justify-text\">\n",
    "The use of WebAssembly has significant implications for the deployment of healthcare simulation models for NHS staff use, to support planning their services. It overcomes many of the issues of other methods of deployment, by increasing accessibility, usability, and data security. It also has the potential to address some of the challenges faced for simulation education, which include usability and democratisation of access. The learnings from use in the healthcare sector are proposed to be transferable to education. \n",
    "</div>\n",
    "</div>"
   ]
  },
  {
   "cell_type": "markdown",
   "id": "1237607d-a6a8-46a0-b1b5-1e29796a8955",
   "metadata": {},
   "source": [
    "### __1. Discrete-event Simulation as a method__\n",
    "\n",
    "<div class=\"justify-text\">\n",
    "In everyday life we encounter the concept of simulation. Weather apps simulate patterns of rainfall and atmosphere dynamics over the coming hours and days. Simulations help understand how diseases or pollutants spread. Urban planners use simulation to study traffic patterns and plan road layouts, or flood risks to plan new developments. \n",
    "\n",
    "Discrete-event simulation (DES) is a type of computer simulation used to model the operation of complex systems, as a sequence of discrete events in time. Events might be arrivals, departures, starting or ending of services, or failures or repairs of resources. Many systems modelled using DES involve queues or delays, so processes are often modelled in terms of a series of queues and servers. As events usually occur at random times, and may have random effects, simulation incorporates elements of probability to reflect this real-life randomness.\n",
    "\n",
    "A DES model can be seen as a computer representation of a system. Running it over time replicates the behaviour of the system over time. Simulation is often used where research on the real system is not possible, due to inaccessibility, risks, or costs. Experimentation with the simulation model is used instead of experimenting with the real system.\n",
    "</div>     "
   ]
  },
  {
   "cell_type": "markdown",
   "id": "77031e3e-92c7-4b50-9472-a94da57c51d4",
   "metadata": {},
   "source": [
    "### __2. Research focus__  \n",
    "#### 2.1 Reuse of simulation models in healthcare  \n",
    "\n",
    "<div class=\"justify-text\">\n",
    "DES models are widely used for decision-support in healthcare, for example for\n",
    "demand and capacity planning of health services. However, they are time-consuming to develop\n",
    "for both modellers and healthcare stakeholders, and are often treated as disposable artefacts, once results have been analysed and delivered. Additionally, for healthcare M&S researchers, a long-standing \n",
    "challenge is translating model results into real-world practice. While many factors contribute to successful model uptake, the aim is to\n",
    "overcome some of the barriers to model use in healthcare by enabling healthcare decision-makers to access and use the model.\n",
    "\n",
    "\n",
    "Across healthcare services, similar problems are seen in similar \n",
    "application areas.  Model reuse is seen as a potential solution to reduce duplication of effort and maximise the potential value gained \n",
    "from the model. Model reuse can involve re-developing, modifying, or reparaterising an existing model. Another approach to model reuse is to deploy a simulation model for the same purpose in a single application area, which can be\n",
    "used repeatedly for planning by healthcare staff such as managers, clinicians or analysts.  \n",
    "\n",
    "A model deployed for reuse\n",
    "by healthcare stakeholders needs to be available and accessible. Purpose built software can make this easy, but may come with prohibitive licensing arrangements and costs. While Python democratises the availability of software, and with appropriate open licensing, allows models to be freely shared and adapted, programming languages such as Python can present \n",
    "accessibility and usability challenges for non-technical users, who may most benefit from their use.\n",
    "</div> "
   ]
  },
  {
   "cell_type": "markdown",
   "id": "b61e3bba-e9ee-497b-9075-605f8e5e6957",
   "metadata": {},
   "source": [
    "#### 2.2 Simulation model deployment options\n",
    "\n",
    "<div class=\"justify-text\">\n",
    "Model deployment refers to the process of taking a validated DES model and making it available for use in real-world applications. It transitions a model from a development setting, where it is tested and validated, to an operational setting where it can provide practical value.  \n",
    "\n",
    "The choice of deployment method should be tailored to fit \n",
    "the specific needs of stakeholders and the\n",
    "user-base within a project, as different methods of deployment come with advantages and disadvantages. \n",
    "\n",
    "Using Jupyter, models, including their source code, can be deployed as static files, interactive web pages, or hosted on platforms like GitHub, Binder, or Google Colab. They can also be shared as web apps, with user-friendly interfaces, via free platforms such as Streamlit Community Cloud. While these are convenient ways to share a model, free or limited-capacity platforms restrict the number of processors available, memory, and/or bandwidth. Some, such as ShinyApps, offer monthly paid plans to increase computational resources, which may not be budgeted into a project. In healthcare, a bigger issue is the potential need to use sensitive data or parameters, which may require a private, local instance of a model where model parameters/data are not sent to any remote servers, so server vulnerabilities are mitigated. \n",
    "\n",
    "A standard approach is to commit code and virtual environments files to GitHub (or alternative repository) which can then be downloaded and run locally [@monks2024towards]. Using Conda environments allows for a controlled setup that maintains dependencies without complex configurations.  For NHS users with limited technical support, this can present barriers. WebAssembly is an alternative approach for local processing which eliminates the need for complex software installation processes. Input files are used locally, and output files and data be safely exported to the users laptop or desktop. Additionally, every user accesses the same software environment directly in their browser, ensuring consistency, reliability, and reproducibility of model results.\n",
    "</div> "
   ]
  },
  {
   "cell_type": "markdown",
   "id": "06000af8-42be-4e4d-9f8b-6028d87c83cb",
   "metadata": {},
   "source": [
    "#### 2.2.1 Models as Notebooks: Jupyter and JupyterLite\n",
    "\n",
    "<div class=\"justify-text\">\n",
    "Jupyter Notebooks and Jupyterlab provide a web-based interactive computing platform which allows users to create and share 'notebooks', which execute code, equations, visualisations and narrative text in a step-by-step manner. This is particularly beneficial for data analysis, prototyping, and education.\n",
    "</div> "
   ]
  },
  {
   "cell_type": "markdown",
   "id": "f20c311b-c61e-44fd-b493-8132ccff9443",
   "metadata": {},
   "source": [
    "<!-- ![Normal Jupyter](Normal_jupyter2.drawio.png) -->\n",
    "\n",
    "<figure>\n",
    "    <img src=\"images/Normal_jupyter2.drawio.png\" alt=\"Jupyter set up\">\n",
    "    <figcaption> Figure 1: Jupyter architecture</figcaption>\n",
    "</figure>"
   ]
  },
  {
   "cell_type": "markdown",
   "id": "dce178ca-bc38-4432-8aeb-ba4dac7bbc58",
   "metadata": {},
   "source": [
    "<div class=\"justify-text\">\n",
    "Using WebAssembly, JupyterLite is a lightweight version of Jupyter that runs entirely in the browser without the need for server-side infrastructure. Jupyter notebooks can be created and run locally without installing anything on their machines. It is fast, portable, and easily deployable, making it ideal for lightweight computing tasks and educational purposes. \n",
    "</div> "
   ]
  },
  {
   "cell_type": "markdown",
   "id": "b45d6bfa-43cd-423c-8b5e-68db61becbb8",
   "metadata": {},
   "source": [
    "<!-- ![JupyterLite](jupyterlite3.drawio.png) -->\n",
    "\n",
    "<figure>\n",
    "    <img src=\"images/jupyterlite3.drawio.png\" alt=\"JupyterLite set up\">\n",
    "    <figcaption> Figure 2: JupyterLite architecture </figcaption>\n",
    "</figure>"
   ]
  },
  {
   "cell_type": "markdown",
   "id": "2ef14fdd-2016-4d0c-a550-90c98f39c529",
   "metadata": {},
   "source": [
    "#### 2.2.2 Models with an interface: Streamlit and Stlite\n",
    "\n",
    "<div class=\"justify-text\">\n",
    "Streamlit is a Python library that allows modellers to quickly create interactive web applications for their DES models, and other data science projects. It simplifies the process of building custom web interfaces by providing easy-to-use widgets and tools for changing simulation parameters and visualising data.\n",
    "</div> "
   ]
  },
  {
   "cell_type": "markdown",
   "id": "930effb3-2f20-4c22-88c2-9c3445a49634",
   "metadata": {},
   "source": [
    "\n",
    "<figure>\n",
    "    <img src=\"images/Streamlit2.drawio.png\" alt=\"Streamlit set up\">\n",
    "    <figcaption> Figure 3: Streamlit architecture </figcaption>\n",
    "</figure>"
   ]
  },
  {
   "cell_type": "markdown",
   "id": "28c1aa32-3ab9-4fc9-957e-73d6d193b776",
   "metadata": {},
   "source": [
    "<div class=\"justify-text\">\n",
    "Stlite is a WebAssembly implementation of Streamlit, enabling the creation of web applications using Python syntax, but compiled to run in the browser. This allows for building interactive DES models without the need for a server backend. It is fast and flexible, and ideal for lightweight tasks such as enabling NHS stakeholders to access and use a model. It is particularly suitable for rapid prototyping during a project, and for ease-of-use after a project end.\n",
    "</div> "
   ]
  },
  {
   "cell_type": "markdown",
   "id": "99f64847-978c-4fa2-b44e-7567627090cc",
   "metadata": {},
   "source": [
    "<figure>\n",
    "    <img src=\"images/StLite.drawio2.png\" alt=\"Stlite set up\">\n",
    "    <figcaption> Figure 4: Stlite architecture </figcaption>\n",
    "</figure>"
   ]
  },
  {
   "cell_type": "markdown",
   "id": "c21ec847-75d9-4032-be58-71279f2ca1d3",
   "metadata": {},
   "source": [
    "### __3. Summary of deploying models for healthcare research__  \n"
   ]
  },
  {
   "cell_type": "markdown",
   "id": "11df6fd0-0f15-4add-add5-eb1d3c94f07f",
   "metadata": {},
   "source": [
    "<div class=\"alert alert-block alert-success\">\n",
    "<div class=\"justify-text\">\n",
    "In healthcare, reusable models have the potential to increase the impact of a modelling and simulation study, by making models available for direct use by NHS stakeholders. Attention needs to be given to deploying models that are accessible, usable, and functional in line with the needs of non-technical stakeholders. However, healthcare models also need to focus on security of sensitive data, and WebAssembly of code notebooks or model interfaces addresses this issue with client-side execution.\n",
    "</div> \n",
    "</div> "
   ]
  }
 ],
 "metadata": {
  "kernelspec": {
   "display_name": "Python 3 (ipykernel)",
   "language": "python",
   "name": "python3"
  },
  "language_info": {
   "codemirror_mode": {
    "name": "ipython",
    "version": 3
   },
   "file_extension": ".py",
   "mimetype": "text/x-python",
   "name": "python",
   "nbconvert_exporter": "python",
   "pygments_lexer": "ipython3",
   "version": "3.9.12"
  }
 },
 "nbformat": 4,
 "nbformat_minor": 5
}
